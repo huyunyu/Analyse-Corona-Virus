{
 "cells": [
  {
   "cell_type": "code",
   "execution_count": 29,
   "metadata": {},
   "outputs": [],
   "source": [
    "import pandas as pd\n",
    "import numpy as np\n",
    "import matplotlib.pyplot as plt"
   ]
  },
  {
   "cell_type": "code",
   "execution_count": 18,
   "metadata": {},
   "outputs": [],
   "source": [
    "df=pd.read_csv('csse_covid_19_data/csse_covid_19_time_series/time_series_19-covid-Confirmed.csv')"
   ]
  },
  {
   "cell_type": "code",
   "execution_count": 19,
   "metadata": {},
   "outputs": [
    {
     "data": {
      "text/html": [
       "<div>\n",
       "<style scoped>\n",
       "    .dataframe tbody tr th:only-of-type {\n",
       "        vertical-align: middle;\n",
       "    }\n",
       "\n",
       "    .dataframe tbody tr th {\n",
       "        vertical-align: top;\n",
       "    }\n",
       "\n",
       "    .dataframe thead th {\n",
       "        text-align: right;\n",
       "    }\n",
       "</style>\n",
       "<table border=\"1\" class=\"dataframe\">\n",
       "  <thead>\n",
       "    <tr style=\"text-align: right;\">\n",
       "      <th></th>\n",
       "      <th>Province/State</th>\n",
       "      <th>Country/Region</th>\n",
       "      <th>Lat</th>\n",
       "      <th>Long</th>\n",
       "      <th>1/22/20</th>\n",
       "      <th>1/23/20</th>\n",
       "      <th>1/24/20</th>\n",
       "      <th>1/25/20</th>\n",
       "      <th>1/26/20</th>\n",
       "      <th>1/27/20</th>\n",
       "      <th>...</th>\n",
       "      <th>2/27/20</th>\n",
       "      <th>2/28/20</th>\n",
       "      <th>2/29/20</th>\n",
       "      <th>3/1/20</th>\n",
       "      <th>3/2/20</th>\n",
       "      <th>3/3/20</th>\n",
       "      <th>3/4/20</th>\n",
       "      <th>3/5/20</th>\n",
       "      <th>3/6/20</th>\n",
       "      <th>3/7/20</th>\n",
       "    </tr>\n",
       "  </thead>\n",
       "  <tbody>\n",
       "    <tr>\n",
       "      <th>0</th>\n",
       "      <td>Anhui</td>\n",
       "      <td>Mainland China</td>\n",
       "      <td>31.8257</td>\n",
       "      <td>117.2264</td>\n",
       "      <td>1</td>\n",
       "      <td>9</td>\n",
       "      <td>15</td>\n",
       "      <td>39</td>\n",
       "      <td>60</td>\n",
       "      <td>70</td>\n",
       "      <td>...</td>\n",
       "      <td>989</td>\n",
       "      <td>990</td>\n",
       "      <td>990</td>\n",
       "      <td>990</td>\n",
       "      <td>990</td>\n",
       "      <td>990</td>\n",
       "      <td>990</td>\n",
       "      <td>990</td>\n",
       "      <td>990</td>\n",
       "      <td>990</td>\n",
       "    </tr>\n",
       "    <tr>\n",
       "      <th>1</th>\n",
       "      <td>Beijing</td>\n",
       "      <td>Mainland China</td>\n",
       "      <td>40.1824</td>\n",
       "      <td>116.4142</td>\n",
       "      <td>14</td>\n",
       "      <td>22</td>\n",
       "      <td>36</td>\n",
       "      <td>41</td>\n",
       "      <td>68</td>\n",
       "      <td>80</td>\n",
       "      <td>...</td>\n",
       "      <td>410</td>\n",
       "      <td>410</td>\n",
       "      <td>411</td>\n",
       "      <td>413</td>\n",
       "      <td>414</td>\n",
       "      <td>414</td>\n",
       "      <td>418</td>\n",
       "      <td>418</td>\n",
       "      <td>422</td>\n",
       "      <td>426</td>\n",
       "    </tr>\n",
       "    <tr>\n",
       "      <th>2</th>\n",
       "      <td>Chongqing</td>\n",
       "      <td>Mainland China</td>\n",
       "      <td>30.0572</td>\n",
       "      <td>107.8740</td>\n",
       "      <td>6</td>\n",
       "      <td>9</td>\n",
       "      <td>27</td>\n",
       "      <td>57</td>\n",
       "      <td>75</td>\n",
       "      <td>110</td>\n",
       "      <td>...</td>\n",
       "      <td>576</td>\n",
       "      <td>576</td>\n",
       "      <td>576</td>\n",
       "      <td>576</td>\n",
       "      <td>576</td>\n",
       "      <td>576</td>\n",
       "      <td>576</td>\n",
       "      <td>576</td>\n",
       "      <td>576</td>\n",
       "      <td>576</td>\n",
       "    </tr>\n",
       "    <tr>\n",
       "      <th>3</th>\n",
       "      <td>Fujian</td>\n",
       "      <td>Mainland China</td>\n",
       "      <td>26.0789</td>\n",
       "      <td>117.9874</td>\n",
       "      <td>1</td>\n",
       "      <td>5</td>\n",
       "      <td>10</td>\n",
       "      <td>18</td>\n",
       "      <td>35</td>\n",
       "      <td>59</td>\n",
       "      <td>...</td>\n",
       "      <td>296</td>\n",
       "      <td>296</td>\n",
       "      <td>296</td>\n",
       "      <td>296</td>\n",
       "      <td>296</td>\n",
       "      <td>296</td>\n",
       "      <td>296</td>\n",
       "      <td>296</td>\n",
       "      <td>296</td>\n",
       "      <td>296</td>\n",
       "    </tr>\n",
       "    <tr>\n",
       "      <th>4</th>\n",
       "      <td>Gansu</td>\n",
       "      <td>Mainland China</td>\n",
       "      <td>36.0611</td>\n",
       "      <td>103.8343</td>\n",
       "      <td>0</td>\n",
       "      <td>2</td>\n",
       "      <td>2</td>\n",
       "      <td>4</td>\n",
       "      <td>7</td>\n",
       "      <td>14</td>\n",
       "      <td>...</td>\n",
       "      <td>91</td>\n",
       "      <td>91</td>\n",
       "      <td>91</td>\n",
       "      <td>91</td>\n",
       "      <td>91</td>\n",
       "      <td>91</td>\n",
       "      <td>91</td>\n",
       "      <td>102</td>\n",
       "      <td>119</td>\n",
       "      <td>120</td>\n",
       "    </tr>\n",
       "    <tr>\n",
       "      <th>...</th>\n",
       "      <td>...</td>\n",
       "      <td>...</td>\n",
       "      <td>...</td>\n",
       "      <td>...</td>\n",
       "      <td>...</td>\n",
       "      <td>...</td>\n",
       "      <td>...</td>\n",
       "      <td>...</td>\n",
       "      <td>...</td>\n",
       "      <td>...</td>\n",
       "      <td>...</td>\n",
       "      <td>...</td>\n",
       "      <td>...</td>\n",
       "      <td>...</td>\n",
       "      <td>...</td>\n",
       "      <td>...</td>\n",
       "      <td>...</td>\n",
       "      <td>...</td>\n",
       "      <td>...</td>\n",
       "      <td>...</td>\n",
       "      <td>...</td>\n",
       "    </tr>\n",
       "    <tr>\n",
       "      <th>220</th>\n",
       "      <td>Pierce County, WA</td>\n",
       "      <td>US</td>\n",
       "      <td>47.0676</td>\n",
       "      <td>-122.1295</td>\n",
       "      <td>0</td>\n",
       "      <td>0</td>\n",
       "      <td>0</td>\n",
       "      <td>0</td>\n",
       "      <td>0</td>\n",
       "      <td>0</td>\n",
       "      <td>...</td>\n",
       "      <td>0</td>\n",
       "      <td>0</td>\n",
       "      <td>0</td>\n",
       "      <td>0</td>\n",
       "      <td>0</td>\n",
       "      <td>0</td>\n",
       "      <td>0</td>\n",
       "      <td>0</td>\n",
       "      <td>0</td>\n",
       "      <td>1</td>\n",
       "    </tr>\n",
       "    <tr>\n",
       "      <th>221</th>\n",
       "      <td>Plymouth County, MA</td>\n",
       "      <td>US</td>\n",
       "      <td>42.1615</td>\n",
       "      <td>-70.7928</td>\n",
       "      <td>0</td>\n",
       "      <td>0</td>\n",
       "      <td>0</td>\n",
       "      <td>0</td>\n",
       "      <td>0</td>\n",
       "      <td>0</td>\n",
       "      <td>...</td>\n",
       "      <td>0</td>\n",
       "      <td>0</td>\n",
       "      <td>0</td>\n",
       "      <td>0</td>\n",
       "      <td>0</td>\n",
       "      <td>0</td>\n",
       "      <td>0</td>\n",
       "      <td>0</td>\n",
       "      <td>1</td>\n",
       "      <td>1</td>\n",
       "    </tr>\n",
       "    <tr>\n",
       "      <th>222</th>\n",
       "      <td>Santa Cruz County, CA</td>\n",
       "      <td>US</td>\n",
       "      <td>36.9741</td>\n",
       "      <td>-122.0308</td>\n",
       "      <td>0</td>\n",
       "      <td>0</td>\n",
       "      <td>0</td>\n",
       "      <td>0</td>\n",
       "      <td>0</td>\n",
       "      <td>0</td>\n",
       "      <td>...</td>\n",
       "      <td>0</td>\n",
       "      <td>0</td>\n",
       "      <td>0</td>\n",
       "      <td>0</td>\n",
       "      <td>0</td>\n",
       "      <td>0</td>\n",
       "      <td>0</td>\n",
       "      <td>0</td>\n",
       "      <td>0</td>\n",
       "      <td>1</td>\n",
       "    </tr>\n",
       "    <tr>\n",
       "      <th>223</th>\n",
       "      <td>Tulsa County, OK</td>\n",
       "      <td>US</td>\n",
       "      <td>36.1593</td>\n",
       "      <td>-95.9410</td>\n",
       "      <td>0</td>\n",
       "      <td>0</td>\n",
       "      <td>0</td>\n",
       "      <td>0</td>\n",
       "      <td>0</td>\n",
       "      <td>0</td>\n",
       "      <td>...</td>\n",
       "      <td>0</td>\n",
       "      <td>0</td>\n",
       "      <td>0</td>\n",
       "      <td>0</td>\n",
       "      <td>0</td>\n",
       "      <td>0</td>\n",
       "      <td>0</td>\n",
       "      <td>0</td>\n",
       "      <td>0</td>\n",
       "      <td>1</td>\n",
       "    </tr>\n",
       "    <tr>\n",
       "      <th>224</th>\n",
       "      <td>Montgomery County, TX</td>\n",
       "      <td>US</td>\n",
       "      <td>30.3213</td>\n",
       "      <td>-95.4778</td>\n",
       "      <td>0</td>\n",
       "      <td>0</td>\n",
       "      <td>0</td>\n",
       "      <td>0</td>\n",
       "      <td>0</td>\n",
       "      <td>0</td>\n",
       "      <td>...</td>\n",
       "      <td>0</td>\n",
       "      <td>0</td>\n",
       "      <td>0</td>\n",
       "      <td>0</td>\n",
       "      <td>0</td>\n",
       "      <td>0</td>\n",
       "      <td>0</td>\n",
       "      <td>0</td>\n",
       "      <td>0</td>\n",
       "      <td>0</td>\n",
       "    </tr>\n",
       "  </tbody>\n",
       "</table>\n",
       "<p>225 rows × 50 columns</p>\n",
       "</div>"
      ],
      "text/plain": [
       "            Province/State  Country/Region      Lat      Long  1/22/20  \\\n",
       "0                    Anhui  Mainland China  31.8257  117.2264        1   \n",
       "1                  Beijing  Mainland China  40.1824  116.4142       14   \n",
       "2                Chongqing  Mainland China  30.0572  107.8740        6   \n",
       "3                   Fujian  Mainland China  26.0789  117.9874        1   \n",
       "4                    Gansu  Mainland China  36.0611  103.8343        0   \n",
       "..                     ...             ...      ...       ...      ...   \n",
       "220      Pierce County, WA              US  47.0676 -122.1295        0   \n",
       "221    Plymouth County, MA              US  42.1615  -70.7928        0   \n",
       "222  Santa Cruz County, CA              US  36.9741 -122.0308        0   \n",
       "223       Tulsa County, OK              US  36.1593  -95.9410        0   \n",
       "224  Montgomery County, TX              US  30.3213  -95.4778        0   \n",
       "\n",
       "     1/23/20  1/24/20  1/25/20  1/26/20  1/27/20  ...  2/27/20  2/28/20  \\\n",
       "0          9       15       39       60       70  ...      989      990   \n",
       "1         22       36       41       68       80  ...      410      410   \n",
       "2          9       27       57       75      110  ...      576      576   \n",
       "3          5       10       18       35       59  ...      296      296   \n",
       "4          2        2        4        7       14  ...       91       91   \n",
       "..       ...      ...      ...      ...      ...  ...      ...      ...   \n",
       "220        0        0        0        0        0  ...        0        0   \n",
       "221        0        0        0        0        0  ...        0        0   \n",
       "222        0        0        0        0        0  ...        0        0   \n",
       "223        0        0        0        0        0  ...        0        0   \n",
       "224        0        0        0        0        0  ...        0        0   \n",
       "\n",
       "     2/29/20  3/1/20  3/2/20  3/3/20  3/4/20  3/5/20  3/6/20  3/7/20  \n",
       "0        990     990     990     990     990     990     990     990  \n",
       "1        411     413     414     414     418     418     422     426  \n",
       "2        576     576     576     576     576     576     576     576  \n",
       "3        296     296     296     296     296     296     296     296  \n",
       "4         91      91      91      91      91     102     119     120  \n",
       "..       ...     ...     ...     ...     ...     ...     ...     ...  \n",
       "220        0       0       0       0       0       0       0       1  \n",
       "221        0       0       0       0       0       0       1       1  \n",
       "222        0       0       0       0       0       0       0       1  \n",
       "223        0       0       0       0       0       0       0       1  \n",
       "224        0       0       0       0       0       0       0       0  \n",
       "\n",
       "[225 rows x 50 columns]"
      ]
     },
     "execution_count": 19,
     "metadata": {},
     "output_type": "execute_result"
    }
   ],
   "source": [
    "df"
   ]
  },
  {
   "cell_type": "code",
   "execution_count": 97,
   "metadata": {},
   "outputs": [
    {
     "data": {
      "text/plain": [
       "[<matplotlib.lines.Line2D at 0x15377f5bef0>]"
      ]
     },
     "execution_count": 97,
     "metadata": {},
     "output_type": "execute_result"
    },
    {
     "data": {
      "image/png": "[encoded data removed]",
      "text/plain": [
       "<Figure size 432x288 with 1 Axes>"
      ]
     },
     "metadata": {
      "needs_background": "light"
     },
     "output_type": "display_data"
    }
   ],
   "source": [
    "plt.plot(df[df['Province/State']=='Hubei'].loc[:,'1/22/20':'3/7/20'].values.T)"
   ]
  },
  {
   "cell_type": "code",
   "execution_count": 91,
   "metadata": {},
   "outputs": [
    {
     "data": {
      "text/plain": [
       "([<matplotlib.axis.XTick at 0x15376745470>,\n",
       "  <matplotlib.axis.XTick at 0x1537673a128>,\n",
       "  <matplotlib.axis.XTick at 0x1537673a198>,\n",
       "  <matplotlib.axis.XTick at 0x153767659b0>,\n",
       "  <matplotlib.axis.XTick at 0x15376765e80>,\n",
       "  <matplotlib.axis.XTick at 0x1537676f438>,\n",
       "  <matplotlib.axis.XTick at 0x1537676f9b0>,\n",
       "  <matplotlib.axis.XTick at 0x1537676ff28>,\n",
       "  <matplotlib.axis.XTick at 0x153767764e0>,\n",
       "  <matplotlib.axis.XTick at 0x1537676f908>,\n",
       "  <matplotlib.axis.XTick at 0x15376776438>,\n",
       "  <matplotlib.axis.XTick at 0x15376776d68>,\n",
       "  <matplotlib.axis.XTick at 0x1537677d320>,\n",
       "  <matplotlib.axis.XTick at 0x1537677d898>,\n",
       "  <matplotlib.axis.XTick at 0x1537677de10>,\n",
       "  <matplotlib.axis.XTick at 0x153767863c8>,\n",
       "  <matplotlib.axis.XTick at 0x15376786940>,\n",
       "  <matplotlib.axis.XTick at 0x15376786eb8>,\n",
       "  <matplotlib.axis.XTick at 0x15376786470>,\n",
       "  <matplotlib.axis.XTick at 0x1537677d860>,\n",
       "  <matplotlib.axis.XTick at 0x1537676f4e0>],\n",
       " <a list of 21 Text xticklabel objects>)"
      ]
     },
     "execution_count": 91,
     "metadata": {},
     "output_type": "execute_result"
    },
    {
     "data": {
      "image/png": "[encoded data removed]",
      "text/plain": [
       "<Figure size 576x288 with 1 Axes>"
      ]
     },
     "metadata": {
      "needs_background": "light"
     },
     "output_type": "display_data"
    }
   ],
   "source": [
    "plt.figure(figsize=(8,4))\n",
    "y=df[df['Country/Region']=='Germany'].loc[:,'2/16/20':'3/7/20'].values.T\n",
    "x=range(len(y))\n",
    "plt.plot(x,y,'*')\n",
    "plt.title('Germany')\n",
    "plt.xticks(x)"
   ]
  },
  {
   "cell_type": "code",
   "execution_count": 96,
   "metadata": {},
   "outputs": [
    {
     "data": {
      "text/plain": [
       "([<matplotlib.axis.XTick at 0x15377ebbf60>,\n",
       "  <matplotlib.axis.XTick at 0x15377ebb9e8>,\n",
       "  <matplotlib.axis.XTick at 0x153767c1b38>,\n",
       "  <matplotlib.axis.XTick at 0x15377eeb0f0>,\n",
       "  <matplotlib.axis.XTick at 0x15377eeb550>,\n",
       "  <matplotlib.axis.XTick at 0x15377eeba90>,\n",
       "  <matplotlib.axis.XTick at 0x15377eebe80>,\n",
       "  <matplotlib.axis.XTick at 0x15377eeb4a8>,\n",
       "  <matplotlib.axis.XTick at 0x15377eef400>,\n",
       "  <matplotlib.axis.XTick at 0x15377eefb00>,\n",
       "  <matplotlib.axis.XTick at 0x15377ef70f0>,\n",
       "  <matplotlib.axis.XTick at 0x15377ef7630>,\n",
       "  <matplotlib.axis.XTick at 0x15377ef7ba8>,\n",
       "  <matplotlib.axis.XTick at 0x15377f01160>,\n",
       "  <matplotlib.axis.XTick at 0x15377f016d8>,\n",
       "  <matplotlib.axis.XTick at 0x15377f01c50>,\n",
       "  <matplotlib.axis.XTick at 0x15377f016a0>,\n",
       "  <matplotlib.axis.XTick at 0x15377ef76d8>,\n",
       "  <matplotlib.axis.XTick at 0x15377f07208>,\n",
       "  <matplotlib.axis.XTick at 0x15377f077f0>,\n",
       "  <matplotlib.axis.XTick at 0x15377f07d68>],\n",
       " <a list of 21 Text xticklabel objects>)"
      ]
     },
     "execution_count": 96,
     "metadata": {},
     "output_type": "execute_result"
    },
    {
     "data": {
      "image/png": "[encoded data removed]",
      "text/plain": [
       "<Figure size 576x288 with 1 Axes>"
      ]
     },
     "metadata": {
      "needs_background": "light"
     },
     "output_type": "display_data"
    }
   ],
   "source": [
    "plt.figure(figsize=(8,4))\n",
    "y=df[df['Country/Region']=='Iran'].loc[:,'2/16/20':'3/7/20'].values.T\n",
    "x=range(len(y))\n",
    "plt.plot(x,y,'*')\n",
    "plt.title('Iran')\n",
    "plt.xticks(x)"
   ]
  },
  {
   "cell_type": "code",
   "execution_count": 95,
   "metadata": {},
   "outputs": [
    {
     "data": {
      "text/plain": [
       "([<matplotlib.axis.XTick at 0x15376db3128>,\n",
       "  <matplotlib.axis.XTick at 0x15376db31d0>,\n",
       "  <matplotlib.axis.XTick at 0x15376d94358>,\n",
       "  <matplotlib.axis.XTick at 0x15376dd9dd8>,\n",
       "  <matplotlib.axis.XTick at 0x15376de52e8>,\n",
       "  <matplotlib.axis.XTick at 0x15376de5898>,\n",
       "  <matplotlib.axis.XTick at 0x15376de5da0>,\n",
       "  <matplotlib.axis.XTick at 0x15376de5e80>,\n",
       "  <matplotlib.axis.XTick at 0x15376deb390>,\n",
       "  <matplotlib.axis.XTick at 0x15376deb908>,\n",
       "  <matplotlib.axis.XTick at 0x15376debe80>,\n",
       "  <matplotlib.axis.XTick at 0x15376df3320>,\n",
       "  <matplotlib.axis.XTick at 0x15376df3860>,\n",
       "  <matplotlib.axis.XTick at 0x15376df3dd8>,\n",
       "  <matplotlib.axis.XTick at 0x15376dfa390>,\n",
       "  <matplotlib.axis.XTick at 0x15376dfa908>,\n",
       "  <matplotlib.axis.XTick at 0x15376dfae80>,\n",
       "  <matplotlib.axis.XTick at 0x15376df3c50>,\n",
       "  <matplotlib.axis.XTick at 0x15376deb710>,\n",
       "  <matplotlib.axis.XTick at 0x15377e80400>,\n",
       "  <matplotlib.axis.XTick at 0x15377e80978>],\n",
       " <a list of 21 Text xticklabel objects>)"
      ]
     },
     "execution_count": 95,
     "metadata": {},
     "output_type": "execute_result"
    },
    {
     "data": {
      "image/png": "[encoded data removed]",
      "text/plain": [
       "<Figure size 576x288 with 1 Axes>"
      ]
     },
     "metadata": {
      "needs_background": "light"
     },
     "output_type": "display_data"
    }
   ],
   "source": [
    "plt.figure(figsize=(8,4))\n",
    "y=df[df['Country/Region']=='South Korea'].loc[:,'2/16/20':'3/7/20'].values.T\n",
    "x=range(len(y))\n",
    "plt.plot(x,y,'*')\n",
    "plt.title('South Korea')\n",
    "plt.xticks(x)"
   ]
  },
  {
   "cell_type": "code",
   "execution_count": 98,
   "metadata": {},
   "outputs": [
    {
     "data": {
      "text/plain": [
       "([<matplotlib.axis.XTick at 0x15377fa60b8>,\n",
       "  <matplotlib.axis.XTick at 0x15377f87cc0>,\n",
       "  <matplotlib.axis.XTick at 0x15377f93550>,\n",
       "  <matplotlib.axis.XTick at 0x15377fcc3c8>,\n",
       "  <matplotlib.axis.XTick at 0x15377fcc898>,\n",
       "  <matplotlib.axis.XTick at 0x15377fcce10>,\n",
       "  <matplotlib.axis.XTick at 0x15377fcc470>,\n",
       "  <matplotlib.axis.XTick at 0x15377fd1588>,\n",
       "  <matplotlib.axis.XTick at 0x15377fd1ac8>,\n",
       "  <matplotlib.axis.XTick at 0x15377fd90b8>,\n",
       "  <matplotlib.axis.XTick at 0x15377fd95f8>,\n",
       "  <matplotlib.axis.XTick at 0x15377fd9b70>,\n",
       "  <matplotlib.axis.XTick at 0x15377fe0160>,\n",
       "  <matplotlib.axis.XTick at 0x15377fe06a0>,\n",
       "  <matplotlib.axis.XTick at 0x15377fe0c18>,\n",
       "  <matplotlib.axis.XTick at 0x15377fe05f8>,\n",
       "  <matplotlib.axis.XTick at 0x15377fd99e8>,\n",
       "  <matplotlib.axis.XTick at 0x15377fe6208>,\n",
       "  <matplotlib.axis.XTick at 0x15377fe67b8>,\n",
       "  <matplotlib.axis.XTick at 0x15377fe6cf8>,\n",
       "  <matplotlib.axis.XTick at 0x15377fee2b0>],\n",
       " <a list of 21 Text xticklabel objects>)"
      ]
     },
     "execution_count": 98,
     "metadata": {},
     "output_type": "execute_result"
    },
    {
     "data": {
      "image/png": "[encoded data removed]",
      "text/plain": [
       "<Figure size 576x288 with 1 Axes>"
      ]
     },
     "metadata": {
      "needs_background": "light"
     },
     "output_type": "display_data"
    }
   ],
   "source": [
    "plt.figure(figsize=(8,4))\n",
    "y=df[df['Country/Region']=='Japan'].loc[:,'2/16/20':'3/7/20'].values.T\n",
    "x=range(len(y))\n",
    "plt.plot(x,y,'*')\n",
    "plt.title('Japan')\n",
    "plt.xticks(x)"
   ]
  },
  {
   "cell_type": "code",
   "execution_count": 99,
   "metadata": {},
   "outputs": [
    {
     "data": {
      "text/plain": [
       "([<matplotlib.axis.XTick at 0x153780285c0>,\n",
       "  <matplotlib.axis.XTick at 0x15378016780>,\n",
       "  <matplotlib.axis.XTick at 0x15378016a90>,\n",
       "  <matplotlib.axis.XTick at 0x1537804d7b8>,\n",
       "  <matplotlib.axis.XTick at 0x15378058208>,\n",
       "  <matplotlib.axis.XTick at 0x15378058780>,\n",
       "  <matplotlib.axis.XTick at 0x15378058cf8>,\n",
       "  <matplotlib.axis.XTick at 0x15378058dd8>,\n",
       "  <matplotlib.axis.XTick at 0x1537805f2e8>,\n",
       "  <matplotlib.axis.XTick at 0x1537805f860>,\n",
       "  <matplotlib.axis.XTick at 0x1537805fdd8>,\n",
       "  <matplotlib.axis.XTick at 0x15378066390>,\n",
       "  <matplotlib.axis.XTick at 0x15378066908>,\n",
       "  <matplotlib.axis.XTick at 0x15378066e80>,\n",
       "  <matplotlib.axis.XTick at 0x1537806e438>,\n",
       "  <matplotlib.axis.XTick at 0x1537806e898>,\n",
       "  <matplotlib.axis.XTick at 0x1537806edd8>,\n",
       "  <matplotlib.axis.XTick at 0x15378066c88>,\n",
       "  <matplotlib.axis.XTick at 0x1537805f668>,\n",
       "  <matplotlib.axis.XTick at 0x15378075390>,\n",
       "  <matplotlib.axis.XTick at 0x15378075908>],\n",
       " <a list of 21 Text xticklabel objects>)"
      ]
     },
     "execution_count": 99,
     "metadata": {},
     "output_type": "execute_result"
    },
    {
     "data": {
      "image/png": "[encoded data removed]",
      "text/plain": [
       "<Figure size 576x288 with 1 Axes>"
      ]
     },
     "metadata": {
      "needs_background": "light"
     },
     "output_type": "display_data"
    }
   ],
   "source": [
    "plt.figure(figsize=(8,4))\n",
    "y=df[df['Country/Region']=='Italy'].loc[:,'2/16/20':'3/7/20'].values.T\n",
    "x=range(len(y))\n",
    "plt.plot(x,y,'*')\n",
    "plt.title('Italy')\n",
    "plt.xticks(x)"
   ]
  },
  {
   "cell_type": "code",
   "execution_count": null,
   "metadata": {},
   "outputs": [],
   "source": []
  }
 ],
 "metadata": {
  "kernelspec": {
   "display_name": "Python 3",
   "language": "python",
   "name": "python3"
  },
  "language_info": {
   "codemirror_mode": {
    "name": "ipython",
    "version": 3
   },
   "file_extension": ".py",
   "mimetype": "text/x-python",
   "name": "python",
   "nbconvert_exporter": "python",
   "pygments_lexer": "ipython3",
   "version": "3.6.8"
  }
 },
 "nbformat": 4,
 "nbformat_minor": 2
}
