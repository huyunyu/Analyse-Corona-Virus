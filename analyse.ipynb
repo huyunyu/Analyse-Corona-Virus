import pandas as pd
import numpy as np
import matplotlib.pyplot as plt
df=pd.read_csv('csse_covid_19_data/csse_covid_19_time_series/time_series_19-covid-Confirmed.csv')
plt.plot(df[df['Province/State']=='Hubei'].loc[:,'1/22/20':'3/7/20'].values.T)
plt.figure(figsize=(8,4))
y=df[df['Country/Region']=='Germany'].loc[:,'2/16/20':'3/7/20'].values.T
x=range(len(y))
plt.plot(x,y,'*')
plt.title('Germany')
plt.xticks(x)
plt.figure(figsize=(8,4))
y=df[df['Country/Region']=='Iran'].loc[:,'2/16/20':'3/7/20'].values.T
x=range(len(y))
plt.plot(x,y,'*')
plt.title('Iran')
plt.xticks(x)
